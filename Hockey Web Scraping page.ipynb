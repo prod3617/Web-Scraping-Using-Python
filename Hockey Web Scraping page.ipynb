{
 "cells": [
  {
   "cell_type": "code",
   "execution_count": 1,
   "id": "d0bc0c01-56f7-4ff4-bf90-1c3bbe2a6a06",
   "metadata": {},
   "outputs": [],
   "source": [
    "from bs4 import BeautifulSoup\n",
    "import requests"
   ]
  },
  {
   "cell_type": "code",
   "execution_count": 3,
   "id": "a5ea637e-2e6e-4dc0-b8dc-ae4d629f8c48",
   "metadata": {},
   "outputs": [],
   "source": [
    "url = 'https://www.scrapethissite.com/pages/forms/'"
   ]
  },
  {
   "cell_type": "code",
   "execution_count": 5,
   "id": "b3adf7f2-ead3-4c26-bddd-43960e6fb9cd",
   "metadata": {},
   "outputs": [],
   "source": [
    "page = requests.get(url)"
   ]
  },
  {
   "cell_type": "code",
   "execution_count": 9,
   "id": "84fc2d5b-2eeb-45da-8ff8-f74b35b8da16",
   "metadata": {},
   "outputs": [],
   "source": [
    "soup = BeautifulSoup(page.text, 'html')\n",
    "#soup"
   ]
  },
  {
   "cell_type": "code",
   "execution_count": 11,
   "id": "52b7b9aa-a3ab-44bd-ad80-cbd5fb0fc699",
   "metadata": {},
   "outputs": [
    {
     "data": {
      "text/plain": [
       "<p class=\"lead\">\n",
       "                            Browse through a database of NHL team stats since 1990. Practice building a scraper that handles common website interface components.\n",
       "                            Take a look at how pagination and search elements change the URL as your browse. Build a web scraper that can conduct searches and paginate through the results.\n",
       "                        </p>"
      ]
     },
     "execution_count": 11,
     "metadata": {},
     "output_type": "execute_result"
    }
   ],
   "source": [
    "soup.find('p')"
   ]
  },
  {
   "cell_type": "code",
   "execution_count": 13,
   "id": "cc1d9109-f863-4930-8a85-16aa5c25051d",
   "metadata": {},
   "outputs": [
    {
     "data": {
      "text/plain": [
       "[<p class=\"lead\">\n",
       "                             Browse through a database of NHL team stats since 1990. Practice building a scraper that handles common website interface components.\n",
       "                             Take a look at how pagination and search elements change the URL as your browse. Build a web scraper that can conduct searches and paginate through the results.\n",
       "                         </p>,\n",
       " <p>\n",
       " <i class=\"glyphicon glyphicon-education\"></i> There are <a href=\"/lessons/\">8 video lessons</a> that show you how to scrape this page.\n",
       "                         </p>,\n",
       " <p>\n",
       "                             \n",
       "                                 Data via\n",
       "                                 <a class=\"data-attribution\" href=\"http://www.opensourcesports.com/hockey/\" target=\"_blank\">http://www.opensourcesports.com/hockey/</a>\n",
       " </p>]"
      ]
     },
     "execution_count": 13,
     "metadata": {},
     "output_type": "execute_result"
    }
   ],
   "source": [
    "soup.find_all('p')"
   ]
  },
  {
   "cell_type": "code",
   "execution_count": 15,
   "id": "86fcc6d7-f12f-4ccf-a1f0-4d50f2fe2360",
   "metadata": {},
   "outputs": [
    {
     "data": {
      "text/plain": [
       "[<p class=\"lead\">\n",
       "                             Browse through a database of NHL team stats since 1990. Practice building a scraper that handles common website interface components.\n",
       "                             Take a look at how pagination and search elements change the URL as your browse. Build a web scraper that can conduct searches and paginate through the results.\n",
       "                         </p>]"
      ]
     },
     "execution_count": 15,
     "metadata": {},
     "output_type": "execute_result"
    }
   ],
   "source": [
    "soup.find_all('p', class_ = 'lead')"
   ]
  },
  {
   "cell_type": "code",
   "execution_count": 17,
   "id": "291d88df-b453-468d-bebc-0b89cac75f6e",
   "metadata": {},
   "outputs": [
    {
     "data": {
      "text/plain": [
       "'\\n                            Browse through a database of NHL team stats since 1990. Practice building a scraper that handles common website interface components.\\n                            Take a look at how pagination and search elements change the URL as your browse. Build a web scraper that can conduct searches and paginate through the results.\\n                        '"
      ]
     },
     "execution_count": 17,
     "metadata": {},
     "output_type": "execute_result"
    }
   ],
   "source": [
    "soup.find('p', class_ = 'lead').text"
   ]
  },
  {
   "cell_type": "code",
   "execution_count": 19,
   "id": "e11f7b2a-6f99-4573-9c7b-898e0333f1c7",
   "metadata": {},
   "outputs": [
    {
     "data": {
      "text/plain": [
       "'Browse through a database of NHL team stats since 1990. Practice building a scraper that handles common website interface components.\\n                            Take a look at how pagination and search elements change the URL as your browse. Build a web scraper that can conduct searches and paginate through the results.'"
      ]
     },
     "execution_count": 19,
     "metadata": {},
     "output_type": "execute_result"
    }
   ],
   "source": [
    "soup.find('p').text.strip()"
   ]
  },
  {
   "cell_type": "code",
   "execution_count": null,
   "id": "11156ebe-bd23-4473-9813-020d105e60a7",
   "metadata": {},
   "outputs": [],
   "source": []
  },
  {
   "cell_type": "code",
   "execution_count": null,
   "id": "038a0a09-95be-4eff-a84f-67e43e9c8e31",
   "metadata": {},
   "outputs": [],
   "source": []
  }
 ],
 "metadata": {
  "kernelspec": {
   "display_name": "Python 3 (ipykernel)",
   "language": "python",
   "name": "python3"
  },
  "language_info": {
   "codemirror_mode": {
    "name": "ipython",
    "version": 3
   },
   "file_extension": ".py",
   "mimetype": "text/x-python",
   "name": "python",
   "nbconvert_exporter": "python",
   "pygments_lexer": "ipython3",
   "version": "3.12.4"
  }
 },
 "nbformat": 4,
 "nbformat_minor": 5
}
