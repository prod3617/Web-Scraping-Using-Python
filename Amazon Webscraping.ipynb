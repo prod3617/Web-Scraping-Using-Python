{
 "cells": [
  {
   "cell_type": "code",
   "execution_count": 1,
   "id": "68f9b856-a0b8-4e37-884d-4f64db02aea3",
   "metadata": {},
   "outputs": [],
   "source": [
    "from bs4 import BeautifulSoup\n",
    "import requests\n",
    "import time\n",
    "import datetime\n",
    "import pandas as pd\n",
    "import smtplib #for sending mails"
   ]
  },
  {
   "cell_type": "code",
   "execution_count": 102,
   "id": "f9d8b756-57ac-4dd1-95db-80b08bc771ca",
   "metadata": {},
   "outputs": [
    {
     "name": "stdout",
     "output_type": "stream",
     "text": [
      "\n",
      "             Samsung Galaxy S23 Ultra 5G AI Smartphone (Phantom Black, 12GB, 256GB Storage)\n",
      "            \n",
      "\n",
      "                                 79,999\n",
      "                                 \n",
      "                                  .\n",
      "                                 \n",
      "\n"
     ]
    }
   ],
   "source": [
    "# Connect to Website and pull in data\n",
    "\n",
    "URL = 'https://www.amazon.in/dp/B0BT9FDZ8N/ref=QAHzEditorial_en_IN_3?pf_rd_r=A6XPTYW37E536R528PTC&pf_rd_p=b9adea55-f719-4501-9765-4f87bb7816b9&pf_rd_m=A1VBAL9TL5WCBF&pf_rd_s=merchandised-search-3&pf_rd_t=&pf_rd_i=1389401031&th=1'\n",
    "\n",
    "headers = {\"User-Agent\": \"Mozilla/5.0 (Windows NT 10.0; Win64; x64) AppleWebKit/537.36 (KHTML, like Gecko) Chrome/78.0.3904.108 Safari/537.36\", \"Accept-Encoding\":\"gzip, deflate\", \"Accept\":\"text/html,application/xhtml+xml,application/xml;q=0.9,*/*;q=0.8\", \"DNT\":\"1\",\"Connection\":\"close\", \"Upgrade-Insecure-Requests\":\"1\"}\n",
    "\n",
    "page = requests.get(URL, headers=headers)\n",
    "\n",
    "soup1 = BeautifulSoup(page.content, \"html.parser\")\n",
    "\n",
    "soup2 = BeautifulSoup(soup1.prettify(), \"html.parser\")\n",
    "\n",
    "title = soup2.find(id='productTitle').get_text()\n",
    "\n",
    "price = soup2.find(class_='a-price-whole').get_text()\n",
    "\n",
    "Exchange_Price_Discount = soup2.find(class_='a-color-price').get_text()\n",
    "\n",
    "\n",
    "\n",
    "print(title)\n",
    "print(price)\n",
    "#print (soup2)"
   ]
  },
  {
   "cell_type": "code",
   "execution_count": 104,
   "id": "cdca7099-d8e0-4b53-bea7-940a27973c6e",
   "metadata": {},
   "outputs": [
    {
     "name": "stdout",
     "output_type": "stream",
     "text": [
      "Samsung Galaxy S23 Ultra 5G AI Smartphone (Phantom Black, 12GB, 256GB Storage)\n",
      "79,999 \n",
      "Up to 27,350.00 off\n"
     ]
    }
   ],
   "source": [
    "title = title.strip()\n",
    "price = \" \".join(price.split())\n",
    "price = price.rstrip(\".\")\n",
    "Exchange_Price_Discount = \" \".join(Exchange_Price_Discount.split())\n",
    "\n",
    "print(title)\n",
    "print(price)\n",
    "print(Exchange_Price_Discount)"
   ]
  },
  {
   "cell_type": "code",
   "execution_count": 106,
   "id": "2526c278-6837-458d-a257-4512850c787d",
   "metadata": {},
   "outputs": [
    {
     "name": "stdout",
     "output_type": "stream",
     "text": [
      "2025-01-05\n"
     ]
    }
   ],
   "source": [
    "# store date when the data is created\n",
    "today = datetime.date.today()\n",
    "print(today)"
   ]
  },
  {
   "cell_type": "code",
   "execution_count": 108,
   "id": "cb6377d7-7f68-49a9-b1ac-b872ee09d184",
   "metadata": {},
   "outputs": [],
   "source": [
    "import csv\n",
    "\n",
    "headers = ['Title', 'Price', 'Date', 'Exchange Discount']\n",
    "data = [title, price, today, Exchange_Price_Discount]\n",
    "\n",
    "with open('AmazonWebScrapData.csv', 'w', newline='', encoding = 'UTF8') as f:\n",
    "    writer = csv.writer(f)\n",
    "    writer.writerow(headers)\n",
    "    writer.writerow(data)"
   ]
  },
  {
   "cell_type": "code",
   "execution_count": 116,
   "id": "ce52b9b3-9522-4f8b-95cc-15bca816b4a1",
   "metadata": {},
   "outputs": [
    {
     "name": "stdout",
     "output_type": "stream",
     "text": [
      "                                               Title    Price        Date  \\\n",
      "0  Samsung Galaxy S23 Ultra 5G AI Smartphone (Pha...  79,999   2025-01-05   \n",
      "1  Samsung Galaxy S23 Ultra 5G AI Smartphone (Pha...  79,999   2025-01-05   \n",
      "\n",
      "     Exchange Discount  \n",
      "0  Up to 27,350.00 off  \n",
      "1  Up to 27,350.00 off  \n"
     ]
    }
   ],
   "source": [
    "df = pd.read_csv(r'C:\\Users\\MANJEET KUMAR\\AmazonWebScrapData.csv')\n",
    "print(df)"
   ]
  },
  {
   "cell_type": "code",
   "execution_count": 112,
   "id": "8b4ca432-cb6e-452c-bbc1-762f23bbd159",
   "metadata": {},
   "outputs": [],
   "source": [
    "# Appending data to the csv file\n",
    "with open('AmazonWebScrapData.csv', 'a+', newline='', encoding = 'UTF8') as f:\n",
    "    writer = csv.writer(f)\n",
    "    writer.writerow(data)"
   ]
  },
  {
   "cell_type": "code",
   "execution_count": 114,
   "id": "e2f042f4-4a07-452a-ad52-9391ad35b238",
   "metadata": {},
   "outputs": [],
   "source": [
    "def price_check():\n",
    "    URL = 'https://www.amazon.in/dp/B0BT9FDZ8N/ref=QAHzEditorial_en_IN_3?pf_rd_r=A6XPTYW37E536R528PTC&pf_rd_p=b9adea55-f719-4501-9765-4f87bb7816b9&pf_rd_m=A1VBAL9TL5WCBF&pf_rd_s=merchandised-search-3&pf_rd_t=&pf_rd_i=1389401031&th=1'\n",
    "\n",
    "    headers = {\"User-Agent\": \"Mozilla/5.0 (Windows NT 10.0; Win64; x64) AppleWebKit/537.36 (KHTML, like Gecko) Chrome/78.0.3904.108 Safari/537.36\", \"Accept-Encoding\":\"gzip, deflate\", \"Accept\":\"text/html,application/xhtml+xml,application/xml;q=0.9,*/*;q=0.8\", \"DNT\":\"1\",\"Connection\":\"close\", \"Upgrade-Insecure-Requests\":\"1\"}\n",
    "\n",
    "    page = requests.get(URL, headers=headers)\n",
    "\n",
    "    soup1 = BeautifulSoup(page.content, \"html.parser\")\n",
    "\n",
    "    soup2 = BeautifulSoup(soup1.prettify(), \"html.parser\")\n",
    "\n",
    "    title = soup2.find(id='productTitle').get_text()\n",
    "\n",
    "    price = soup2.find(class_='a-price-whole').get_text()\n",
    "    \n",
    "    Exchange_Price_Discount = soup2.find(class_='a-color-price').get_text()\n",
    "    \n",
    "    title = title.strip()\n",
    "    \n",
    "    price = \" \".join(price.split())\n",
    "    price = price.rstrip(\".\")\n",
    "\n",
    "    Exchange_Price_Discount = \" \".join(Exchange_Price_Discount.split())\n",
    "    \n",
    "    today = datetime.date.today()\n",
    "    \n",
    "    headers = ['Title', 'Price', 'Date', 'Exchange Discount']\n",
    "    data = [title, price, today, Exchange_Price_Discount]\n",
    "    \n",
    "    with open('AmazonWebScrapData.csv', 'a+', newline='', encoding = 'UTF8') as f:\n",
    "        writer = csv.writer(f)\n",
    "        writer.writerow(data)\n"
   ]
  },
  {
   "cell_type": "code",
   "execution_count": null,
   "id": "3a063a25-ac0b-41a6-ac38-3b28df1b9fc9",
   "metadata": {},
   "outputs": [],
   "source": [
    "# call the function after some fixed time\n",
    "while(True):\n",
    "    price_check()\n",
    "    time.sleep(86400)"
   ]
  },
  {
   "cell_type": "code",
   "execution_count": 80,
   "id": "94e6f604-b0f2-4d28-802e-feb93e5c8dab",
   "metadata": {},
   "outputs": [
    {
     "data": {
      "text/plain": [
       "'Up to 27,350.00 off'"
      ]
     },
     "execution_count": 80,
     "metadata": {},
     "output_type": "execute_result"
    }
   ],
   "source": [
    "Exchange_Price_Discount = soup2.find(class_='a-color-price').get_text()\n",
    "Exchange_Price_Discount = \" \".join(Exchange_Price_Discount.split())\n",
    "Exchange_Price_Discount\n",
    "#Exchange_Price_Discount = Exchange_Price_Discount.strip()\n",
    "#Exchange_Price_Discount = Exchange_Price_Discount.replace('\\n','')\n",
    "#Exchange_Price_Discount = Exchange_Price_Discount.replace(' ', '')\n"
   ]
  },
  {
   "cell_type": "code",
   "execution_count": 100,
   "id": "c595c17b-d80e-4b71-ae36-e2f40ea3cc0a",
   "metadata": {},
   "outputs": [
    {
     "name": "stdout",
     "output_type": "stream",
     "text": [
      "79,999 \n"
     ]
    }
   ],
   "source": [
    "price2 = soup2.find(class_='a-price-whole').get_text()\n",
    "price2 = \" \".join(price2.split())\n",
    "price2 = price2.rstrip(\".\")\n",
    "print(price2)\n",
    "#type(price2)"
   ]
  },
  {
   "cell_type": "code",
   "execution_count": null,
   "id": "637bd93b-5ee7-4b39-a141-52093ac1d2f4",
   "metadata": {},
   "outputs": [],
   "source": []
  }
 ],
 "metadata": {
  "kernelspec": {
   "display_name": "Python 3 (ipykernel)",
   "language": "python",
   "name": "python3"
  },
  "language_info": {
   "codemirror_mode": {
    "name": "ipython",
    "version": 3
   },
   "file_extension": ".py",
   "mimetype": "text/x-python",
   "name": "python",
   "nbconvert_exporter": "python",
   "pygments_lexer": "ipython3",
   "version": "3.12.4"
  }
 },
 "nbformat": 4,
 "nbformat_minor": 5
}
